{
 "cells": [
  {
   "cell_type": "code",
   "execution_count": 1,
   "metadata": {},
   "outputs": [],
   "source": [
    "# Displaying final output format\n",
    "from IPython.display import display, Markdown, Latex\n",
    "# LangChain Dependencies\n",
    "from langchain.prompts import PromptTemplate\n",
    "from langchain_core.output_parsers import JsonOutputParser, StrOutputParser\n",
    "from langchain_community.chat_models import ChatOllama\n",
    "from langchain_community.tools import DuckDuckGoSearchRun\n",
    "from langchain_community.utilities import DuckDuckGoSearchAPIWrapper\n",
    "from langgraph.graph import END, StateGraph\n",
    "import ollama\n",
    "# For State Graph \n",
    "from typing_extensions import TypedDict\n",
    "import os"
   ]
  },
  {
   "cell_type": "code",
   "execution_count": 2,
   "metadata": {},
   "outputs": [],
   "source": [
    "# Environment Variables\n",
    "os.environ['LANGCHAIN_TRACING_V2'] = 'true'\n",
    "os.environ[\"LANGCHAIN_PROJECT\"] = \"L3 Research Agent\""
   ]
  },
  {
   "cell_type": "code",
   "execution_count": 9,
   "metadata": {},
   "outputs": [],
   "source": [
    "# Defining LLM\n",
    "local_llm = 'llama3.1'\n",
    "llama3 = ChatOllama(model=local_llm, temperature=0)\n",
    "llama3_json = ChatOllama(model=local_llm, format='json', temperature=0)"
   ]
  },
  {
   "cell_type": "code",
   "execution_count": 12,
   "metadata": {},
   "outputs": [
    {
     "data": {
      "text/plain": [
       "'Obituary: Ratan Tata, the \\'modest\\' Indian tycoon. 9 October 2024. Getty Images. Tata led a \"salt-to-software\" conglomerate of more than 100 companies. Ratan Tata, who has died aged 86, was one of ... Ratan Tata died at a Mumbai hospital late on Wednesday (October 9, 2024). The chairman emeritus of the Tata group was 86. Tata was admitted to the Breach Candy Hospital in south Mumbai on Monday ... Ratan Naval Tata was born on Dec. 28, 1937, in Bombay, now Mumbai, during the British Raj. His family belonged to the Parsi ethnic community, whose Zoroastrian ancestors fled persecution in Persia ... Indian tycoon Ratan Tata has died aged 86, says the Tata Group, the conglomerate he led for more than two decades. Tata was one of India\\'s most internationally recognised business leaders. The ... Ratan Tata, the former chairman of Indian conglomerate Tata Group, has died at the age of 86, according to a statement from the firm. The industrialist rose to global prominence with a series of ... The funeral has taken place in Mumbai of Ratan Tata, the former chairman of one of India\\'s biggest conglomerates, Tata Group, who died on Wednesday aged 86. Business leaders, politicians and ... NEW DELHI (AP) — Ratan Tata, one of India\\'s most influential business leaders, was cremated after a state funeral in the country\\'s financial capital on Thursday. The veteran industrialist, former chairman of a $100 billion conglomerate Tata Group, died at a Mumbai hospital on Wednesday night at the age of 86. Ratan Tata, who built Tata Group into a global conglomerate, passed away at a Mumbai hospital on Wednesday night. He was 86 years old and had no apparent cause of death, according to his successor Natarajan Chandrasekaran. Translate. Ratan Tata, the businessman who inherited one of India\\'s oldest conglomerates and transformed it through a string of eye-catching deals into a global empire, has died. He was 86. His ... Noel Tata was appointed as chairman of the Tata group\\'s philanthropic arm Tata Trusts today on Friday, media channel CNBC TV18 reported.. He will be succeeding his half brother Ratan Naval Tata who passed away earlier this week at the age of 86 in Mumbai, after a brief illness.. Following the industrialist\\'s death, Noel was seen as a strong contender to succeed the Tata legacy due to his ... The mortal remains of veteran industrialist Ratan Tata, who died on October 9, was transported from the NCPA lawns at Nariman Point in Mumbai, where it had been placed for public viewing, to the ... Indian business tycoon Ratan Tata, former chairman of the $100-billion Tata Group, dies at 86 and is cremated after a funeral attended by thousands. Summary. Indian tycoon Ratan Tata has died aged 86, it has been announced by Tata Group, the conglomerate he led for more than two decades. Tata was one of India\\'s most internationally recognised ... October 9, 2024, 7:22 PM PDT. Ratan Tata, then chairman of Tata Sons, in 2008. Sunil Saxena—Hindustan Times via Getty Images. Ratan Tata, the businessman who inherited one of India\\'s oldest ... Oct 9 (Reuters) - Ratan Tata, the former Tata Group chairman who put a staid and sprawling Indian conglomerate on the global stage with a string of high-profile acquisitions, has died, the Tata ... Ratan Tata died at a Mumbai hospital on Wednesday. He was 86. (REUTERS) \"It is with a profound sense of loss that we bid farewell to Mr. Ratan Naval Tata, a truly uncommon leader whose ... The chairman emeritus of Tata Sons passed away on Wednesday after undergoing treatment for his age and related medical conditions. He was a prominent figure in Indian industry and transformed the Tata Group into a global powerhouse. Summary. Indian tycoon Ratan Tata has died aged 86, it has been announced by Tata Group, the conglomerate he led for more than two decades. Tata was one of India\\'s most internationally recognised ... NEW DELHI (AP) — Ratan Tata, one of India\\'s most influential business leaders, was cremated after a state funeral in the country\\'s financial capital on Thursday. The veteran industrialist, former chairman of a $100 billion conglomerate Tata Group, died at a Mumbai hospital on Wednesday night at the age of 86. India\\'s Home Minister Amit […] Photo : PTI. Mumbai: Ratan Tata, the chairman emeritus of Tata conglomerate, passed away in Mumbai at 86 years of age. He was admitted to Mumbai\\'s Breach Candy Hospital on Monday after his condition deteriorated due to age-related health issues. Earlier on Wednesday, Ratan Tata was admitted to the intensive care unit care unit (ICU) after his ... Mumbai: The late Ratan Tata named lawyer Darius Khambata and close friend and associate Mehli Mistry as executors of his will, along with half-sisters Shireen and Deanna Jejeebhoy, according to executives with knowledge of the matter.Tata died on October 9 at the age of 86, with half-brother Noel Tata succeeding him as Tata Trusts chairman. Mehli Mistry was a confidante of Ratan Tata and a ... Whenever a Colossus - I mean a really big guy - dies, the \"stop press\" activity in today\\'s hyper-media age becomes frenetic. That\\'s exactly what happened with Ratan Tata. Ratan Tata Dies: He became chairman of the $100 billion steel-to-software conglomerate in 1991 and ran the group founded by his great-grandfather more than a hundred years ago until 2012. Mumbai: Days after acclaimed industrialist and philanthropist Ratan Tata breathed his last on October 9, a WhatsApp message saying that his pet dog Goa too passed away in grief, started doing the rounds. Tata\\'s attachment with Goa was well documented, with images of the dog visiting Mumbai\\'s National Centre for the Performing Arts (NCPA) to […] Ratan Naval Tata was born on 28 December 1937. He was an industrialist, philanthropist and former chairman of Tata Sons. He was a chairman of the Tata Group from 1990 to 2012, and interim chairman ...'"
      ]
     },
     "execution_count": 12,
     "metadata": {},
     "output_type": "execute_result"
    }
   ],
   "source": [
    "# Web Search Tool\n",
    "\n",
    "wrapper = DuckDuckGoSearchAPIWrapper(max_results=25)\n",
    "web_search_tool = DuckDuckGoSearchRun(api_wrapper=wrapper)\n",
    "\n",
    "# Test Run\n",
    "resp = web_search_tool.invoke(\"how did ratan tata die\")\n",
    "resp"
   ]
  },
  {
   "cell_type": "code",
   "execution_count": 13,
   "metadata": {},
   "outputs": [
    {
     "name": "stdout",
     "output_type": "stream",
     "text": [
      "Based on the provided web search context, I can answer your question:\n",
      "\n",
      "Ratan Tata died at the age of 86 due to age-related health issues. He was admitted to Breach Candy Hospital in Mumbai on Monday and passed away on Wednesday night (October 9, 2024). The cause of death is not specified as \"apparent\" but rather attributed to his age and related medical conditions.\n"
     ]
    }
   ],
   "source": [
    "# Generation Prompt\n",
    "\n",
    "generate_prompt = PromptTemplate(\n",
    "    template=\"\"\"\n",
    "    \n",
    "    <|begin_of_text|>\n",
    "    \n",
    "    <|start_header_id|>system<|end_header_id|> \n",
    "    \n",
    "    You are an AI assistant for Research Question Tasks, that synthesizes web search results. \n",
    "    Strictly use the following pieces of web search context to answer the question. If you don't know the answer, just say that you don't know. \n",
    "    keep the answer concise, but provide all of the details you can in the form of a research report. \n",
    "    Only make direct references to material if provided in the context.\n",
    "    \n",
    "    <|eot_id|>\n",
    "    \n",
    "    <|start_header_id|>user<|end_header_id|>\n",
    "    \n",
    "    Question: {question} \n",
    "    Web Search Context: {context} \n",
    "    Answer: \n",
    "    \n",
    "    <|eot_id|>\n",
    "    \n",
    "    <|start_header_id|>assistant<|end_header_id|>\"\"\",\n",
    "    input_variables=[\"question\", \"context\"],\n",
    ")\n",
    "\n",
    "# Chain\n",
    "generate_chain = generate_prompt | llama3 | StrOutputParser()\n",
    "\n",
    "# Test Run\n",
    "question = \"How did ratan tata die?\"\n",
    "context = \"\"\"'Obituary: Ratan Tata, the \\'modest\\' Indian tycoon. 9 October 2024. Getty Images. Tata led a \"salt-to-software\" conglomerate of more than 100 companies. Ratan Tata, who has died aged 86, was one of ... Ratan Tata died at a Mumbai hospital late on Wednesday (October 9, 2024). The chairman emeritus of the Tata group was 86. Tata was admitted to the Breach Candy Hospital in south Mumbai on Monday ... Ratan Naval Tata was born on Dec. 28, 1937, in Bombay, now Mumbai, during the British Raj. His family belonged to the Parsi ethnic community, whose Zoroastrian ancestors fled persecution in Persia ... Indian tycoon Ratan Tata has died aged 86, says the Tata Group, the conglomerate he led for more than two decades. Tata was one of India\\'s most internationally recognised business leaders. The ... Ratan Tata, the former chairman of Indian conglomerate Tata Group, has died at the age of 86, according to a statement from the firm. The industrialist rose to global prominence with a series of ... The funeral has taken place in Mumbai of Ratan Tata, the former chairman of one of India\\'s biggest conglomerates, Tata Group, who died on Wednesday aged 86. Business leaders, politicians and ... NEW DELHI (AP) — Ratan Tata, one of India\\'s most influential business leaders, was cremated after a state funeral in the country\\'s financial capital on Thursday. The veteran industrialist, former chairman of a $100 billion conglomerate Tata Group, died at a Mumbai hospital on Wednesday night at the age of 86. Ratan Tata, who built Tata Group into a global conglomerate, passed away at a Mumbai hospital on Wednesday night. He was 86 years old and had no apparent cause of death, according to his successor Natarajan Chandrasekaran. Translate. Ratan Tata, the businessman who inherited one of India\\'s oldest conglomerates and transformed it through a string of eye-catching deals into a global empire, has died. He was 86. His ... Noel Tata was appointed as chairman of the Tata group\\'s philanthropic arm Tata Trusts today on Friday, media channel CNBC TV18 reported.. He will be succeeding his half brother Ratan Naval Tata who passed away earlier this week at the age of 86 in Mumbai, after a brief illness.. Following the industrialist\\'s death, Noel was seen as a strong contender to succeed the Tata legacy due to his ... The mortal remains of veteran industrialist Ratan Tata, who died on October 9, was transported from the NCPA lawns at Nariman Point in Mumbai, where it had been placed for public viewing, to the ... Indian business tycoon Ratan Tata, former chairman of the $100-billion Tata Group, dies at 86 and is cremated after a funeral attended by thousands. Summary. Indian tycoon Ratan Tata has died aged 86, it has been announced by Tata Group, the conglomerate he led for more than two decades. Tata was one of India\\'s most internationally recognised ... October 9, 2024, 7:22 PM PDT. Ratan Tata, then chairman of Tata Sons, in 2008. Sunil Saxena—Hindustan Times via Getty Images. Ratan Tata, the businessman who inherited one of India\\'s oldest ... Oct 9 (Reuters) - Ratan Tata, the former Tata Group chairman who put a staid and sprawling Indian conglomerate on the global stage with a string of high-profile acquisitions, has died, the Tata ... Ratan Tata died at a Mumbai hospital on Wednesday. He was 86. (REUTERS) \"It is with a profound sense of loss that we bid farewell to Mr. Ratan Naval Tata, a truly uncommon leader whose ... The chairman emeritus of Tata Sons passed away on Wednesday after undergoing treatment for his age and related medical conditions. He was a prominent figure in Indian industry and transformed the Tata Group into a global powerhouse. Summary. Indian tycoon Ratan Tata has died aged 86, it has been announced by Tata Group, the conglomerate he led for more than two decades. Tata was one of India\\'s most internationally recognised ... NEW DELHI (AP) — Ratan Tata, one of India\\'s most influential business leaders, was cremated after a state funeral in the country\\'s financial capital on Thursday. The veteran industrialist, former chairman of a $100 billion conglomerate Tata Group, died at a Mumbai hospital on Wednesday night at the age of 86. India\\'s Home Minister Amit […] Photo : PTI. Mumbai: Ratan Tata, the chairman emeritus of Tata conglomerate, passed away in Mumbai at 86 years of age. He was admitted to Mumbai\\'s Breach Candy Hospital on Monday after his condition deteriorated due to age-related health issues. Earlier on Wednesday, Ratan Tata was admitted to the intensive care unit care unit (ICU) after his ... Mumbai: The late Ratan Tata named lawyer Darius Khambata and close friend and associate Mehli Mistry as executors of his will, along with half-sisters Shireen and Deanna Jejeebhoy, according to executives with knowledge of the matter.Tata died on October 9 at the age of 86, with half-brother Noel Tata succeeding him as Tata Trusts chairman. Mehli Mistry was a confidante of Ratan Tata and a ... Whenever a Colossus - I mean a really big guy - dies, the \"stop press\" activity in today\\'s hyper-media age becomes frenetic. That\\'s exactly what happened with Ratan Tata. Ratan Tata Dies: He became chairman of the $100 billion steel-to-software conglomerate in 1991 and ran the group founded by his great-grandfather more than a hundred years ago until 2012. Mumbai: Days after acclaimed industrialist and philanthropist Ratan Tata breathed his last on October 9, a WhatsApp message saying that his pet dog Goa too passed away in grief, started doing the rounds. Tata\\'s attachment with Goa was well documented, with images of the dog visiting Mumbai\\'s National Centre for the Performing Arts (NCPA) to […] Ratan Naval Tata was born on 28 December 1937. He was an industrialist, philanthropist and former chairman of Tata Sons. He was a chairman of the Tata Group from 1990 to 2012, and interim chairman ...'\"\"\"\n",
    "generation = generate_chain.invoke({\"context\": context, \"question\": question})\n",
    "print(generation)"
   ]
  },
  {
   "cell_type": "code",
   "execution_count": null,
   "metadata": {},
   "outputs": [],
   "source": [
    "# Router\n",
    "\n",
    "router_prompt = PromptTemplate(\n",
    "    template=\"\"\"\n",
    "    \n",
    "    <|begin_of_text|>\n",
    "    \n",
    "    <|start_header_id|>system<|end_header_id|>\n",
    "    \n",
    "    You are an expert at routing a user question to either the generation stage or web search. \n",
    "    Use the web search for questions that require more context for a better answer, or recent events.\n",
    "    Otherwise, you can skip and go straight to the generation phase to respond.\n",
    "    You do not need to be stringent with the keywords in the question related to these topics.\n",
    "    Give a binary choice 'web_search' or 'generate' based on the question. \n",
    "    Return the JSON with a single key 'choice' with no premable or explanation. \n",
    "    \n",
    "    Question to route: {question} \n",
    "    \n",
    "    <|eot_id|>\n",
    "    \n",
    "    <|start_header_id|>assistant<|end_header_id|>\n",
    "    \n",
    "    \"\"\",\n",
    "    input_variables=[\"question\"],\n",
    ")\n",
    "\n",
    "# Chain\n",
    "question_router = router_prompt | llama3_json | JsonOutputParser()\n",
    "\n",
    "# Test Run\n",
    "question = \"What's up?\"\n",
    "print(question_router.invoke({\"question\": question}))"
   ]
  }
 ],
 "metadata": {
  "kernelspec": {
   "display_name": ".venv",
   "language": "python",
   "name": "python3"
  },
  "language_info": {
   "codemirror_mode": {
    "name": "ipython",
    "version": 3
   },
   "file_extension": ".py",
   "mimetype": "text/x-python",
   "name": "python",
   "nbconvert_exporter": "python",
   "pygments_lexer": "ipython3",
   "version": "3.12.7"
  }
 },
 "nbformat": 4,
 "nbformat_minor": 2
}
